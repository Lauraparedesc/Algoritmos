{
  "nbformat": 4,
  "nbformat_minor": 0,
  "metadata": {
    "colab": {
      "name": "Final.ipynb",
      "provenance": []
    },
    "kernelspec": {
      "name": "python3",
      "display_name": "Python 3"
    },
    "language_info": {
      "name": "python"
    }
  },
  "cells": [
    {
      "cell_type": "markdown",
      "metadata": {
        "id": "l9VFftDg5iOW"
      },
      "source": [
        "#PUNTO 1\n",
        "\n",
        "\n"
      ]
    },
    {
      "cell_type": "code",
      "metadata": {
        "id": "2P8uMsAC1rla"
      },
      "source": [
        "dictTable1 = {}\n",
        "dictTable1['db'] = 'dentistas.db'\n",
        "dictTable1 ['name'] = 'dentistas'\n",
        "dictTable1 ['keys'] = 'id,nombre,edad,especialidad'"
      ],
      "execution_count": 1,
      "outputs": []
    },
    {
      "cell_type": "code",
      "metadata": {
        "id": "MVOxR5cG10Og"
      },
      "source": [
        "dictTable2 = {}\n",
        "dictTable2['db'] = 'dentistas.db'\n",
        "dictTable2 ['name'] = 'pacientes'\n",
        "dictTable2 ['keys'] = 'id,nombre,enfermedad'"
      ],
      "execution_count": 3,
      "outputs": []
    },
    {
      "cell_type": "code",
      "metadata": {
        "colab": {
          "base_uri": "https://localhost:8080/"
        },
        "id": "tIjeaLS62JMX",
        "outputId": "9ec6980e-edcf-43e8-e0b7-e3f457069956"
      },
      "source": [
        "import sqlite3\n",
        "conexion=sqlite3.connect(dictTable1['db'])\n",
        "try:\n",
        "    conexion.execute(f\"\"\"create table {dictTable1['name']} (\n",
        "                              id integer primary key ,\n",
        "                              nombre text,\n",
        "                              edad,\n",
        "                              especialidad text\n",
        "                        )\"\"\")\n",
        "    print(f\"se creo la tabla {dictTable1['name']}\")                        \n",
        "except sqlite3.OperationalError:\n",
        "    print(f\"La tabla {dictTable1['name']} ya existe\")                    \n",
        "\n",
        "\n",
        "try:\n",
        "    conexion.execute(f\"\"\"create table {dictTable2['name']} (\n",
        "                              id integer primary key ,\n",
        "                              nombre text,\n",
        "                              enfermedad text\n",
        "                        )\"\"\")\n",
        "    print(f\"se creo la tabla {dictTable2['name']}\")                        \n",
        "except sqlite3.OperationalError:\n",
        "    print(f\"La tabla {dictTable2['name']} ya existe\")                    \n",
        "conexion.close()"
      ],
      "execution_count": 4,
      "outputs": [
        {
          "output_type": "stream",
          "text": [
            "se creo la tabla dentistas\n",
            "se creo la tabla pacientes\n"
          ],
          "name": "stdout"
        }
      ]
    },
    {
      "cell_type": "code",
      "metadata": {
        "id": "zY6cyuWf2hVH"
      },
      "source": [
        "import sqlite3\n",
        "\n",
        "conexion=sqlite3.connect(dictTable1['db'])\n",
        "conexion.execute (f'insert into {dictTable1[\"name\"]}({dictTable1[\"keys\"]}) values (?,?,?,?)',\n",
        "                  (1000254886,'Celia',29,'Implantología'))\n",
        "conexion.commit()\n",
        "conexion.close()\n",
        "\n",
        "import sqlite3\n",
        "\n",
        "conexion=sqlite3.connect(dictTable2['db'])\n",
        "conexion.execute (f'insert into {dictTable2[\"name\"]}({dictTable2[\"keys\"]}) values (?,?,?)',\n",
        "                  (8542168755,'Roberto','Edentulismo'))\n",
        "conexion.commit()\n",
        "conexion.close()"
      ],
      "execution_count": 14,
      "outputs": []
    },
    {
      "cell_type": "code",
      "metadata": {
        "id": "tcyHHE7K3Y-w"
      },
      "source": [
        "import sqlite3 as gestor\n",
        "\n",
        "def showTable (dictIn):\n",
        "  \n",
        "  conexion = gestor.connect(dictIn['db'])\n",
        "  tabla = conexion.execute(f'select {dictIn[\"keys\"]} from {dictIn[\"name\"]}')\n",
        "  for renglon in tabla :\n",
        "    print(renglon)\n",
        "  conexion.close()"
      ],
      "execution_count": 6,
      "outputs": []
    },
    {
      "cell_type": "code",
      "metadata": {
        "colab": {
          "base_uri": "https://localhost:8080/"
        },
        "id": "6sb2KZrr3d-G",
        "outputId": "00354215-646e-43ff-cbae-d7c283b9eb86"
      },
      "source": [
        "showTable(dictTable1)\n",
        "showTable(dictTable2)"
      ],
      "execution_count": 15,
      "outputs": [
        {
          "output_type": "stream",
          "text": [
            "(272558694, 'Pablo', 25, 'Rehabilitación oral')\n",
            "(1000254886, 'Celia', 29, 'Implantología')\n",
            "(1192564854, 'Luis', 31, 'Endodoncia')\n",
            "(1203625845, 'Diana', 27, 'Odontopediatría')\n",
            "(6854958427, 'John', 35, 'Ortodoncia')\n",
            "(986589475, 'Lina', 'Caries')\n",
            "(987755875, 'Julia', 'Maloclusión dental')\n",
            "(1004698574, 'Samuel', 'gingivitis')\n",
            "(1004854751, 'Lucas', 'Periodontitis')\n",
            "(8542168755, 'Roberto', 'Edentulismo')\n"
          ],
          "name": "stdout"
        }
      ]
    },
    {
      "cell_type": "markdown",
      "metadata": {
        "id": "cETk8wKM5pnv"
      },
      "source": [
        "#PUNTO 2\n"
      ]
    },
    {
      "cell_type": "code",
      "metadata": {
        "id": "vhAKD9H65r8J"
      },
      "source": [
        "import requests\n",
        "response = requests.get('https://jsonplaceholder.typicode.com/todos/4')"
      ],
      "execution_count": 16,
      "outputs": []
    },
    {
      "cell_type": "code",
      "metadata": {
        "colab": {
          "base_uri": "https://localhost:8080/"
        },
        "id": "CzW2i4vX6g3m",
        "outputId": "e4d6a038-1c89-4ed8-a61e-66c6e1dab944"
      },
      "source": [
        "data = response.json()\n",
        "print(data)"
      ],
      "execution_count": 17,
      "outputs": [
        {
          "output_type": "stream",
          "text": [
            "{'userId': 1, 'id': 4, 'title': 'et porro tempora', 'completed': True}\n"
          ],
          "name": "stdout"
        }
      ]
    },
    {
      "cell_type": "code",
      "metadata": {
        "id": "-DslF0c-61P-"
      },
      "source": [
        "class Album():\n",
        "  def __init__ (self,albUserId, albId, albTitle, albCompleted):\n",
        "    self.userId = albUserId\n",
        "    self.id = albId\n",
        "    self.title = albTitle\n",
        "    self.completed = albCompleted"
      ],
      "execution_count": 20,
      "outputs": []
    },
    {
      "cell_type": "code",
      "metadata": {
        "id": "_pz9-k278KJw"
      },
      "source": [
        "import requests\n",
        "def realizarConsulta(id):\n",
        "  data = None\n",
        "  response = requests.get('https://jsonplaceholder.typicode.com/todos/'+str(id))\n",
        "  if response.status_code == 404:\n",
        "    print('el dato a buscar no existe')\n",
        "  else:\n",
        "    print('todo anda bien respuesta exitosa')\n",
        "    data = response.json()\n",
        "  return data"
      ],
      "execution_count": 21,
      "outputs": []
    },
    {
      "cell_type": "code",
      "metadata": {
        "colab": {
          "base_uri": "https://localhost:8080/"
        },
        "id": "KCaZd4ZV8XLe",
        "outputId": "93ffc22f-73b9-42ae-806b-8760abffb7ee"
      },
      "source": [
        "data1 = list(realizarConsulta(12).values())\n",
        "print(data1)\n",
        "\n",
        "album1 = Album(data1[0],data1[1], data1[2], data1[3])"
      ],
      "execution_count": 28,
      "outputs": [
        {
          "output_type": "stream",
          "text": [
            "todo anda bien respuesta exitosa\n",
            "[1, 12, 'ipsa repellendus fugit nisi', True]\n"
          ],
          "name": "stdout"
        }
      ]
    },
    {
      "cell_type": "markdown",
      "metadata": {
        "id": "rPvrmcyZ-GPZ"
      },
      "source": [
        "#PUNTO 3"
      ]
    },
    {
      "cell_type": "markdown",
      "metadata": {
        "id": "uK4Vl762_prs"
      },
      "source": [
        "\n",
        "\n",
        "**KNN**"
      ]
    },
    {
      "cell_type": "code",
      "metadata": {
        "colab": {
          "base_uri": "https://localhost:8080/"
        },
        "id": "Nz0WflWL-H9O",
        "outputId": "fe8c9cbb-f2f6-44bf-c9f8-86209e3ab89a"
      },
      "source": [
        "from sklearn.datasets import load_iris\n",
        "from sklearn.model_selection import train_test_split\n",
        "from sklearn.neighbors import  KNeighborsClassifier\n",
        "baseDatos = load_iris()\n",
        "datosEntrenamiento, datosPrueba, clasesEntrenamiento, clasesPrueba = train_test_split(baseDatos['data'], baseDatos['target'])\n",
        "knn = KNeighborsClassifier(n_neighbors=5)\n",
        "knn.fit(datosEntrenamiento, clasesEntrenamiento)\n",
        "knn.score(datosPrueba, clasesPrueba)"
      ],
      "execution_count": 40,
      "outputs": [
        {
          "output_type": "execute_result",
          "data": {
            "text/plain": [
              "0.9736842105263158"
            ]
          },
          "metadata": {
            "tags": []
          },
          "execution_count": 40
        }
      ]
    },
    {
      "cell_type": "markdown",
      "metadata": {
        "id": "UK65BxvcAAiD"
      },
      "source": [
        "**REDES NEURONALES**"
      ]
    },
    {
      "cell_type": "code",
      "metadata": {
        "colab": {
          "base_uri": "https://localhost:8080/"
        },
        "id": "z2Heft8j__Dj",
        "outputId": "1c43b766-1b4e-479c-b893-d2a882395adb"
      },
      "source": [
        "from sklearn.neural_network import MLPClassifier\n",
        "from sklearn.model_selection import train_test_split as tts\n",
        "from sklearn.datasets import load_iris\n",
        "\n",
        "baseDatos = load_iris()\n",
        "dataTrain,dataTest, targetTrain, targetTest = tts (baseDatos['data'], baseDatos['target'])\n",
        "redNeural = MLPClassifier(max_iter=3000, hidden_layer_sizes=[25,82,30])\n",
        "redNeural.fit(dataTrain,targetTrain)\n",
        "print(redNeural.score(dataTest,targetTest))"
      ],
      "execution_count": 42,
      "outputs": [
        {
          "output_type": "stream",
          "text": [
            "0.9210526315789473\n"
          ],
          "name": "stdout"
        }
      ]
    },
    {
      "cell_type": "markdown",
      "metadata": {
        "id": "B9ZWs43RAass"
      },
      "source": [
        "**ÁRBOL DE DECISIONES**"
      ]
    },
    {
      "cell_type": "code",
      "metadata": {
        "colab": {
          "base_uri": "https://localhost:8080/"
        },
        "id": "sTcOluv2ASmG",
        "outputId": "043fbcc1-bb84-49f0-f7d1-027c551dac36"
      },
      "source": [
        "from sklearn.datasets import load_iris\n",
        "from sklearn.model_selection import train_test_split as tts\n",
        "baseDatos = load_iris()\n",
        "from sklearn.tree import DecisionTreeClassifier\n",
        "from sklearn.neighbors import KNeighborsClassifier\n",
        "from sklearn.svm import SVC\n",
        "dataTrain, dataTest, targetTrain, targetTest = tts(baseDatos['data'],baseDatos['target'])\n",
        "tree= DecisionTreeClassifier(max_depth=3)\n",
        "tree.fit(dataTrain,targetTrain)\n",
        "print(tree.score(dataTest,targetTest))"
      ],
      "execution_count": 67,
      "outputs": [
        {
          "output_type": "stream",
          "text": [
            "0.9473684210526315\n"
          ],
          "name": "stdout"
        }
      ]
    },
    {
      "cell_type": "code",
      "metadata": {
        "colab": {
          "base_uri": "https://localhost:8080/",
          "height": 265
        },
        "id": "DT_WDbicAzhH",
        "outputId": "b2754bb7-a4a3-4dec-fd0b-0e2c308ce9fd"
      },
      "source": [
        "import matplotlib.pyplot as plt\n",
        "puntajes = [knn.score(dataTest,targetTest), tree.score(dataTest,targetTest), redNeural.score(dataTest,targetTest)]\n",
        "nombres = ['Knn','Red Neuronal','Árbol de decisiones']\n",
        "plt.bar(nombres,puntajes)\n",
        "plt.show()\n"
      ],
      "execution_count": 72,
      "outputs": [
        {
          "output_type": "display_data",
          "data": {
            "image/png": "[encoded data removed]",
            "text/plain": [
              "<Figure size 432x288 with 1 Axes>"
            ]
          },
          "metadata": {
            "tags": [],
            "needs_background": "light"
          }
        }
      ]
    }
  ]
}