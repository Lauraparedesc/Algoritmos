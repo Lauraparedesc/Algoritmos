{
  "nbformat": 4,
  "nbformat_minor": 0,
  "metadata": {
    "colab": {
      "name": "TallerRelacional.ipynb",
      "provenance": []
    },
    "kernelspec": {
      "name": "python3",
      "display_name": "Python 3"
    },
    "language_info": {
      "name": "python"
    }
  },
  "cells": [
    {
      "cell_type": "markdown",
      "metadata": {
        "id": "iwQ1Pb9fypmC"
      },
      "source": [
        "#Base de datos: Maquillaje\n",
        "\n",
        "\n"
      ]
    },
    {
      "cell_type": "code",
      "metadata": {
        "colab": {
          "base_uri": "https://localhost:8080/"
        },
        "id": "965mns4rs_O8",
        "outputId": "13ec31f5-97fd-44cd-ad75-678bf780f333"
      },
      "source": [
        "import sqlite3\n",
        "nombreBD = \"Maquillaje.db\"\n",
        "conexion=sqlite3.connect(nombreBD)\n",
        "try:\n",
        "    conexion.execute(\"\"\"create table maquillaje (\n",
        "                              codigo integer primary key autoincrement,\n",
        "                              name,\n",
        "                              descripcion text,\n",
        "                              precio real\n",
        "                        )\"\"\")\n",
        "    print(\"se creo la tabla maquillaje\")                        \n",
        "except sqlite3.OperationalError:\n",
        "    print(\"La tabla maquillaje ya existe\")                    \n",
        "conexion.close()"
      ],
      "execution_count": 17,
      "outputs": [
        {
          "output_type": "stream",
          "text": [
            "se creo la tabla maquillaje\n"
          ],
          "name": "stdout"
        }
      ]
    },
    {
      "cell_type": "code",
      "metadata": {
        "id": "zgFPL6r1tVTd"
      },
      "source": [
        "import sqlite3\n",
        "\n",
        "conexion=sqlite3.connect(nombreBD)\n",
        "conexion.execute(\"insert into maquillaje(name,descripcion,precio) values (?,?,?)\", (\"Base\",\"Base de alta cobertura con filtro solar +10\",105000))\n",
        "conexion.execute(\"insert into maquillaje(name,descripcion,precio) values (?,?,?)\", (\"Rubor\",\"Rubor en polvo compacto con pigmentos dorados\",80000))\n",
        "conexion.execute(\"insert into maquillaje(name,descripcion,precio) values (?,?,?)\", (\"Iluminador\",\"Iluminador liquido con suaves reflejos perlados\",173000))\n",
        "conexion.execute(\"insert into maquillaje(name,descripcion,precio) values (?,?,?)\", (\"Contorno\",\"Contorno en polvo compacto chocolate frio\",173000))\n",
        "conexion.commit()\n",
        "conexion.close()"
      ],
      "execution_count": 19,
      "outputs": []
    },
    {
      "cell_type": "code",
      "metadata": {
        "colab": {
          "base_uri": "https://localhost:8080/"
        },
        "id": "SrHWKpmTvAEX",
        "outputId": "5b9ea3a9-dda6-4b03-9c58-1e5607f191d4"
      },
      "source": [
        "import sqlite3\n",
        "\n",
        "conexion = sqlite3.connect(nombreBD)\n",
        "cursor = conexion.execute(\"select codigo,name,descripcion,precio from maquillaje\")\n",
        "for fila in cursor:\n",
        "    print(fila)\n",
        "conexion.close()"
      ],
      "execution_count": 21,
      "outputs": [
        {
          "output_type": "stream",
          "text": [
            "(1, 'Base', 'Base de alta cobertura con filtro solar +10', 105000.0)\n",
            "(2, 'Rubor', 'Rubor en polvo compacto con pigmentos dorados', 80000.0)\n",
            "(3, 'Iluminador', 'Iluminador liquido con suaves reflejos perlados', 173000.0)\n",
            "(4, 'Contorno', 'Contorno en polvo compacto chocolate frio', 173000.0)\n"
          ],
          "name": "stdout"
        }
      ]
    },
    {
      "cell_type": "code",
      "metadata": {
        "colab": {
          "base_uri": "https://localhost:8080/"
        },
        "id": "XbBpLp5Jwcr6",
        "outputId": "a2168e88-0e59-43a3-fe15-716d43fbb626"
      },
      "source": [
        "import sqlite3\n",
        "\n",
        "conexion=sqlite3.connect(nombreBD)\n",
        "isCorrect = False\n",
        "while (isCorrect == False):\n",
        "  try:\n",
        "    nombre = input(\"Ingrese el nombre del artículo:\")\n",
        "    isCorrect = True\n",
        "  except ValueError:\n",
        "    print('El articulo no está disponible')\n",
        "\n",
        "cursor=conexion.execute(\"select name,descripcion,precio from maquillaje where name=?\", (nombre, ))\n",
        "fila=cursor.fetchone()\n",
        "if fila!=None:\n",
        "    print(fila)\n",
        "else:\n",
        "    print(\"No existe un artículo con dicho nombre.\")\n",
        "conexion.close()"
      ],
      "execution_count": 27,
      "outputs": [
        {
          "output_type": "stream",
          "text": [
            "Ingrese el nombre del artículo:Base\n",
            "('Base', 'Base de alta cobertura con filtro solar +10', 105000.0)\n"
          ],
          "name": "stdout"
        }
      ]
    },
    {
      "cell_type": "code",
      "metadata": {
        "colab": {
          "base_uri": "https://localhost:8080/"
        },
        "id": "dIKq3XyayMEK",
        "outputId": "1595a468-e71f-4b84-db5e-6d88ee14b46e"
      },
      "source": [
        "import sqlite3\n",
        "\n",
        "conexion=sqlite3.connect(nombreBD)\n",
        "precio = float(input(\"Ingrese un precio:\"))\n",
        "cursor = conexion.execute(\"select name,descripcion from maquillaje where precio<=?\", (precio, ))\n",
        "filas=cursor.fetchall()\n",
        "if len(filas)>0:\n",
        "    for fila in filas:\n",
        "        print(fila)\n",
        "else:\n",
        "    print(\"No existen artículos con un precio menor al ingresado.\")\n",
        "conexion.close()"
      ],
      "execution_count": 29,
      "outputs": [
        {
          "output_type": "stream",
          "text": [
            "Ingrese un precio:200000\n",
            "('Base', 'Base de alta cobertura con filtro solar +10')\n",
            "('Rubor', 'Rubor en polvo compacto con pigmentos dorados')\n",
            "('Iluminador', 'Iluminador liquido con suaves reflejos perlados')\n",
            "('Contorno', 'Contorno en polvo compacto chocolate frio')\n"
          ],
          "name": "stdout"
        }
      ]
    }
  ]
}